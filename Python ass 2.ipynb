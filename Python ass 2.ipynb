{
 "cells": [
  {
   "cell_type": "code",
   "execution_count": 5,
   "id": "a56a48d5-eb4e-42b8-b219-a3f73e85b2ed",
   "metadata": {},
   "outputs": [
    {
     "name": "stdout",
     "output_type": "stream",
     "text": [
      "[27, 3, 41, 39, 18]\n"
     ]
    }
   ],
   "source": [
    "# Create a list of 5 random numbers\n",
    "random_list = [random.randint(1, 50) for _ in range(5)]\n",
    "print(random_list)\n"
   ]
  },
  {
   "cell_type": "code",
   "execution_count": 7,
   "id": "b6cc9a88-faae-478d-bd8b-61f3aadb710a",
   "metadata": {},
   "outputs": [
    {
     "name": "stdout",
     "output_type": "stream",
     "text": [
      "[27, 3, 41, 39, 18, 101, 102, 103]\n"
     ]
    }
   ],
   "source": [
    "# Insert 3 new values to the list\n",
    "random_list.extend([101, 102, 103])\n",
    "print(random_list)\n"
   ]
  },
  {
   "cell_type": "code",
   "execution_count": 9,
   "id": "269be631-fd2f-4749-ba3c-04767e286339",
   "metadata": {},
   "outputs": [
    {
     "name": "stdout",
     "output_type": "stream",
     "text": [
      "27\n",
      "3\n",
      "41\n",
      "39\n",
      "18\n",
      "101\n",
      "102\n",
      "103\n"
     ]
    }
   ],
   "source": [
    "# Use a for loop to print each element in the list\n",
    "for element in random_list:\n",
    "    print(element)\n"
   ]
  },
  {
   "cell_type": "code",
   "execution_count": 11,
   "id": "f62c9f31-77fc-4176-94a6-de535a2ad65b",
   "metadata": {},
   "outputs": [
    {
     "name": "stdout",
     "output_type": "stream",
     "text": [
      "{'name': 'John', 'age': 25, 'address': 'New York'}\n"
     ]
    }
   ],
   "source": [
    "# Create a dictionary\n",
    "person_dict = {'name': 'John', 'age': 25, 'address': 'New York'}\n",
    "print(person_dict)\n",
    "\n"
   ]
  },
  {
   "cell_type": "code",
   "execution_count": 13,
   "id": "7dc62b94-0a18-479d-9d74-7594a31bcb25",
   "metadata": {},
   "outputs": [
    {
     "name": "stdout",
     "output_type": "stream",
     "text": [
      "{'name': 'John', 'age': 25, 'address': 'New York', 'phone': '1234567890'}\n"
     ]
    }
   ],
   "source": [
    "# Add a new key-value pair to the dictionary\n",
    "person_dict['phone'] = '1234567890'\n",
    "print(person_dict)\n"
   ]
  },
  {
   "cell_type": "code",
   "execution_count": 15,
   "id": "15282ccc-e478-4192-9e4a-41d97ff08f6f",
   "metadata": {},
   "outputs": [
    {
     "name": "stdout",
     "output_type": "stream",
     "text": [
      "{1, 2, 3, 4, 5}\n"
     ]
    }
   ],
   "source": [
    "# Create a set\n",
    "numbers_set = {1, 2, 3, 4, 5}\n",
    "print(numbers_set)\n"
   ]
  },
  {
   "cell_type": "code",
   "execution_count": 17,
   "id": "3dac1b50-cd10-4ce0-8fcd-9e9c4d827b39",
   "metadata": {},
   "outputs": [
    {
     "name": "stdout",
     "output_type": "stream",
     "text": [
      "{1, 2, 3, 4, 5, 6}\n"
     ]
    }
   ],
   "source": [
    "# Add the value 6 to the set\n",
    "numbers_set.add(6)\n",
    "print(numbers_set)\n"
   ]
  },
  {
   "cell_type": "code",
   "execution_count": 19,
   "id": "67243447-792e-4a61-9b02-678b138162de",
   "metadata": {},
   "outputs": [
    {
     "name": "stdout",
     "output_type": "stream",
     "text": [
      "{1, 2, 4, 5, 6}\n"
     ]
    }
   ],
   "source": [
    "# Remove the value 3 from the set\n",
    "numbers_set.remove(3)\n",
    "print(numbers_set)\n"
   ]
  },
  {
   "cell_type": "code",
   "execution_count": 21,
   "id": "0df66349-28ff-451e-a5d1-c46aff53602d",
   "metadata": {},
   "outputs": [
    {
     "name": "stdout",
     "output_type": "stream",
     "text": [
      "(1, 2, 3, 4)\n"
     ]
    }
   ],
   "source": [
    "# Create a tuple\n",
    "numbers_tuple = (1, 2, 3, 4)\n",
    "print(numbers_tuple)\n"
   ]
  },
  {
   "cell_type": "code",
   "execution_count": 23,
   "id": "481829ed-e4f2-49b4-913d-9e7ca9af3fe2",
   "metadata": {},
   "outputs": [
    {
     "name": "stdout",
     "output_type": "stream",
     "text": [
      "4\n"
     ]
    }
   ],
   "source": [
    "# Print the length of the tuple\n",
    "print(len(numbers_tuple))\n"
   ]
  },
  {
   "cell_type": "code",
   "execution_count": null,
   "id": "2e1c3091-5d2f-4b37-965f-a68ce7c427fb",
   "metadata": {},
   "outputs": [],
   "source": []
  }
 ],
 "metadata": {
  "kernelspec": {
   "display_name": "Python [conda env:base] *",
   "language": "python",
   "name": "conda-base-py"
  },
  "language_info": {
   "codemirror_mode": {
    "name": "ipython",
    "version": 3
   },
   "file_extension": ".py",
   "mimetype": "text/x-python",
   "name": "python",
   "nbconvert_exporter": "python",
   "pygments_lexer": "ipython3",
   "version": "3.12.7"
  }
 },
 "nbformat": 4,
 "nbformat_minor": 5
}
